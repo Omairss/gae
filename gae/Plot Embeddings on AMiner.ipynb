{
 "cells": [
  {
   "cell_type": "code",
   "execution_count": 3,
   "metadata": {},
   "outputs": [],
   "source": [
    "import numpy as np\n",
    "import sys\n",
    "import pickle as pkl\n",
    "import networkx as nx\n",
    "import scipy.sparse as sp\n",
    "from sklearn.manifold import TSNE\n",
    "import matplotlib.pyplot as plt\n",
    "import matplotlib.cm as cm\n",
    "import pandas as pd\n",
    "import matplotlib\n",
    "import nltk\n",
    "from nltk import word_tokenize\n",
    "from nltk.corpus import stopwords\n",
    "from sklearn.preprocessing import OneHotEncoder\n",
    "from nltk.stem.porter import PorterStemmer\n",
    "import collections\n",
    "from tqdm import tqdm_notebook as tqdm\n",
    "from networkx.algorithms import approximation"
   ]
  },
  {
   "cell_type": "markdown",
   "metadata": {},
   "source": [
    "### Reference Code"
   ]
  },
  {
   "cell_type": "code",
   "execution_count": 2,
   "metadata": {},
   "outputs": [],
   "source": [
    "def load_data_2(dataset): #Includes fixing isolated nodes for y\n",
    "    \n",
    "    # load the data: x, tx, allx, graph\n",
    "    dataset = 'citeseer'\n",
    "    names = ['x', 'y', 'tx', 'ty', 'allx', 'ally', 'graph']\n",
    "    objects = []\n",
    "    for i in range(len(names)):\n",
    "        with open(\"../gae/data/ind.{}.{}\".format(dataset, names[i]), 'rb') as f:\n",
    "            if sys.version_info > (3, 0):\n",
    "                objects.append(pkl.load(f, encoding='latin1'))\n",
    "            else:\n",
    "                objects.append(pkl.load(f))\n",
    "    \n",
    "    x, y, tx, ty, allx, ally, graph = tuple(objects)\n",
    "    test_idx_reorder = parse_index_file(\"../gae/data/ind.{}.test.index\".format(dataset))\n",
    "    test_idx_range = np.sort(test_idx_reorder)\n",
    "\n",
    "    if dataset == 'citeseer':\n",
    "        # Fix citeseer dataset (there are some isolated nodes in the graph)\n",
    "        # Find isolated nodes, add them as zero-vecs into the right position\n",
    "        test_idx_range_full = range(min(test_idx_reorder), max(test_idx_reorder)+1)\n",
    "\n",
    "        tx_extended = sp.lil_matrix((len(test_idx_range_full), x.shape[1]))\n",
    "        ty_extended = sp.lil_matrix((len(test_idx_range_full), y.shape[1]))\n",
    "\n",
    "        tx_extended[test_idx_range-min(test_idx_range), :] = tx\n",
    "        ty_extended[test_idx_range-min(test_idx_range), :] = ty\n",
    "\n",
    "        tx = tx_extended\n",
    "        ty = ty_extended\n",
    "\n",
    "    features = sp.vstack((allx, tx)).tolil()\n",
    "    y        = sp.vstack((ally, ty)).tolil()\n",
    "    \n",
    "    features[test_idx_reorder, :] = features[test_idx_range, :]\n",
    "    adj = nx.adjacency_matrix(nx.from_dict_of_lists(graph))\n",
    "    \n",
    "    return adj, features, ty, y, x"
   ]
  },
  {
   "cell_type": "markdown",
   "metadata": {},
   "source": [
    "### Read AMiner Dataset and Build Adjascency Matrix and Features"
   ]
  },
  {
   "cell_type": "code",
   "execution_count": 3,
   "metadata": {},
   "outputs": [],
   "source": [
    "paper_author = pd.read_csv('data_aminer/paper_author.txt', sep = '\\t', header = None, names = ['paper', 'author'])\n",
    "paper_conf   = pd.read_csv('data_aminer/paper_conf.txt', sep = '\\t', header = None, names = ['paper', 'conf'])"
   ]
  },
  {
   "cell_type": "code",
   "execution_count": 7,
   "metadata": {},
   "outputs": [],
   "source": [
    "id_paper = pd.read_csv('data_aminer/paper.txt', sep = '\\t', header = None, names = ['id', 'paper'])\n",
    "#id_author = pd.read_csv('data_aminer/id_author.txt', sep = '\\t', header = None, names = ['id', 'author'])\n",
    "#id_conference =  pd.read_csv('data_aminer/id_conf.txt', sep = '\\t', header = None, names = ['id', 'conference'])"
   ]
  },
  {
   "cell_type": "code",
   "execution_count": 8,
   "metadata": {},
   "outputs": [],
   "source": [
    "paper_author['paper_node'] = 'p' + paper_author['paper'].astype(str)\n",
    "paper_author['author_node'] = 'a' + paper_author['author'].astype(str)\n",
    "\n",
    "paper_conf['paper_node'] = 'p' + paper_conf['paper'].astype(str)\n",
    "paper_conf['conf_node'] = 'c' + paper_conf['conf'].astype(str)\n"
   ]
  },
  {
   "cell_type": "code",
   "execution_count": 9,
   "metadata": {
    "scrolled": true
   },
   "outputs": [
    {
     "data": {
      "text/html": [
       "<div>\n",
       "<style scoped>\n",
       "    .dataframe tbody tr th:only-of-type {\n",
       "        vertical-align: middle;\n",
       "    }\n",
       "\n",
       "    .dataframe tbody tr th {\n",
       "        vertical-align: top;\n",
       "    }\n",
       "\n",
       "    .dataframe thead th {\n",
       "        text-align: right;\n",
       "    }\n",
       "</style>\n",
       "<table border=\"1\" class=\"dataframe\">\n",
       "  <thead>\n",
       "    <tr style=\"text-align: right;\">\n",
       "      <th></th>\n",
       "      <th>id</th>\n",
       "      <th>author</th>\n",
       "    </tr>\n",
       "  </thead>\n",
       "  <tbody>\n",
       "    <tr>\n",
       "      <td>1442893</td>\n",
       "      <td>39369</td>\n",
       "      <td>aFrankThomsonLeighton</td>\n",
       "    </tr>\n",
       "  </tbody>\n",
       "</table>\n",
       "</div>"
      ],
      "text/plain": [
       "            id                 author\n",
       "1442893  39369  aFrankThomsonLeighton"
      ]
     },
     "execution_count": 9,
     "metadata": {},
     "output_type": "execute_result"
    }
   ],
   "source": [
    "## Search for Connference\n",
    "\n",
    "id_author[id_author['author'].str.contains('FrankThomsonLeighton')]"
   ]
  },
  {
   "cell_type": "code",
   "execution_count": 10,
   "metadata": {},
   "outputs": [],
   "source": [
    "aminer_edgelist = pd.DataFrame(columns = ['to', 'from'])\n",
    "\n",
    "aminer_edgelist['to'] = list(paper_author['paper_node']) + list(paper_conf['paper_node'])\n",
    "aminer_edgelist['from'] = list(paper_author['author_node']) + list(paper_conf['conf_node'])"
   ]
  },
  {
   "cell_type": "code",
   "execution_count": 11,
   "metadata": {},
   "outputs": [],
   "source": [
    "aminer_graph = nx.from_pandas_edgelist(aminer_edgelist, source = 'from', target = 'to')"
   ]
  },
  {
   "cell_type": "code",
   "execution_count": 12,
   "metadata": {},
   "outputs": [
    {
     "data": {
      "text/plain": [
       "12518010"
      ]
     },
     "execution_count": 12,
     "metadata": {},
     "output_type": "execute_result"
    }
   ],
   "source": [
    "len(aminer_graph.edges)"
   ]
  },
  {
   "cell_type": "code",
   "execution_count": 13,
   "metadata": {},
   "outputs": [
    {
     "data": {
      "text/plain": [
       "4891819"
      ]
     },
     "execution_count": 13,
     "metadata": {},
     "output_type": "execute_result"
    }
   ],
   "source": [
    "len(aminer_graph.nodes)"
   ]
  },
  {
   "cell_type": "markdown",
   "metadata": {},
   "source": [
    "### Plot Degree Distribution"
   ]
  },
  {
   "cell_type": "code",
   "execution_count": 14,
   "metadata": {},
   "outputs": [],
   "source": [
    "degree_sequence = sorted([d for n, d in aminer_graph.degree()], reverse=True)  # degree sequence\n",
    "degreeCount = collections.Counter(degree_sequence)\n",
    "deg, cnt = zip(*degreeCount.items())\n",
    "\n",
    "degree_dataframe = pd.DataFrame({'degree': deg, 'count': cnt})\n",
    "degree_dataframe = degree_dataframe.set_index('degree', drop = True)"
   ]
  },
  {
   "cell_type": "code",
   "execution_count": 15,
   "metadata": {},
   "outputs": [],
   "source": [
    "high_degree_dataframe = degree_dataframe[degree_dataframe['count'] > 100]"
   ]
  },
  {
   "cell_type": "code",
   "execution_count": 16,
   "metadata": {},
   "outputs": [
    {
     "data": {
      "text/plain": [
       "<matplotlib.axes._subplots.AxesSubplot at 0x7fa08bb9b198>"
      ]
     },
     "execution_count": 16,
     "metadata": {},
     "output_type": "execute_result"
    },
    {
     "data": {
      "image/png": "[encoded data removed]",
      "text/plain": [
       "<Figure size 1800x720 with 1 Axes>"
      ]
     },
     "metadata": {
      "needs_background": "light"
     },
     "output_type": "display_data"
    }
   ],
   "source": [
    "binned  = high_degree_dataframe.groupby(high_degree_dataframe.index // 1).sum()\n",
    "binned.plot.bar(figsize=(25,10))"
   ]
  },
  {
   "cell_type": "markdown",
   "metadata": {},
   "source": [
    "### Remove low degree nodes from graph"
   ]
  },
  {
   "cell_type": "code",
   "execution_count": 16,
   "metadata": {},
   "outputs": [],
   "source": [
    "node_degree_df = pd.DataFrame(aminer_graph.degree(), columns = ['node', 'degree']).set_index('node', drop = True)"
   ]
  },
  {
   "cell_type": "code",
   "execution_count": 17,
   "metadata": {},
   "outputs": [
    {
     "data": {
      "text/plain": [
       "0.9807169889155751"
      ]
     },
     "execution_count": 17,
     "metadata": {},
     "output_type": "execute_result"
    }
   ],
   "source": [
    "low_degree_dataframe = node_degree_df[node_degree_df['degree'] < 20]\n",
    "\n",
    "len(low_degree_dataframe)/len(aminer_graph.nodes)"
   ]
  },
  {
   "cell_type": "code",
   "execution_count": 18,
   "metadata": {},
   "outputs": [
    {
     "data": {
      "application/vnd.jupyter.widget-view+json": {
       "model_id": "39bdc68700bd4840a1920cb698d1fc8b",
       "version_major": 2,
       "version_minor": 0
      },
      "text/plain": [
       "HBox(children=(IntProgress(value=0, max=4891819), HTML(value='')))"
      ]
     },
     "metadata": {},
     "output_type": "display_data"
    },
    {
     "name": "stdout",
     "output_type": "stream",
     "text": [
      "\n"
     ]
    }
   ],
   "source": [
    "low_degree_set = set(list(low_degree_dataframe.index))\n",
    "aminer_graph.remove_nodes_from([n for n in tqdm(aminer_graph) if n in low_degree_set])"
   ]
  },
  {
   "cell_type": "code",
   "execution_count": 19,
   "metadata": {},
   "outputs": [
    {
     "data": {
      "text/plain": [
       "94329"
      ]
     },
     "execution_count": 19,
     "metadata": {},
     "output_type": "execute_result"
    }
   ],
   "source": [
    "len(aminer_graph.nodes)"
   ]
  },
  {
   "cell_type": "code",
   "execution_count": 20,
   "metadata": {},
   "outputs": [
    {
     "data": {
      "text/plain": [
       "13101"
      ]
     },
     "execution_count": 20,
     "metadata": {},
     "output_type": "execute_result"
    }
   ],
   "source": [
    "len(aminer_graph.edges)"
   ]
  },
  {
   "cell_type": "markdown",
   "metadata": {},
   "source": [
    "### Create adjascency matrix"
   ]
  },
  {
   "cell_type": "code",
   "execution_count": 22,
   "metadata": {},
   "outputs": [],
   "source": [
    "aminer_adj = nx.adjacency_matrix(aminer_graph)"
   ]
  },
  {
   "cell_type": "code",
   "execution_count": 19,
   "metadata": {},
   "outputs": [
    {
     "data": {
      "text/plain": [
       "<94329x94329 sparse matrix of type '<class 'numpy.int64'>'\n",
       "\twith 26202 stored elements in Compressed Sparse Row format>"
      ]
     },
     "execution_count": 19,
     "metadata": {},
     "output_type": "execute_result"
    }
   ],
   "source": [
    "aminer_adj"
   ]
  },
  {
   "cell_type": "code",
   "execution_count": 26,
   "metadata": {},
   "outputs": [],
   "source": [
    "with open('intermediate_pkl/aminer_adj.pkl', 'wb') as f:\n",
    "    pkl.dump(aminer_adj, f)"
   ]
  },
  {
   "cell_type": "code",
   "execution_count": 21,
   "metadata": {},
   "outputs": [
    {
     "name": "stdout",
     "output_type": "stream",
     "text": [
      "Once deleted, variables cannot be recovered. Proceed (y/[n])? y\n"
     ]
    }
   ],
   "source": [
    "%reset"
   ]
  },
  {
   "cell_type": "markdown",
   "metadata": {},
   "source": [
    "## Create feature matrix"
   ]
  },
  {
   "cell_type": "code",
   "execution_count": 4,
   "metadata": {},
   "outputs": [],
   "source": [
    "# DF parallelization chunk\n",
    "\n",
    "from multiprocessing import  Pool\n",
    "from functools import partial\n",
    "import numpy as np\n",
    "from tqdm._tqdm_notebook import tqdm_notebook\n",
    "#tqdm_notebook.pandas()\n",
    "\n",
    "def parallelize(data, func, num_of_processes=11):\n",
    "    data_split = np.array_split(data, num_of_processes)\n",
    "    pool = Pool(num_of_processes)\n",
    "    data = pd.concat(pool.map(func, data_split))\n",
    "    pool.close()\n",
    "    pool.join()\n",
    "    return data\n",
    "\n",
    "def run_on_subset(func, data_subset):\n",
    "    return data_subset.apply(func, axis=1)\n",
    "    #return data_subset.progress_apply(func, axis=1)\n",
    "\n",
    "def parallelize_on_rows(data, func, num_of_processes=11):\n",
    "    return parallelize(data, partial(run_on_subset, func), num_of_processes)\n",
    "\n",
    "#Instead of df.apply(some_func, axis=1)\n",
    "#Use parallelize_on_rows(df, some_func)"
   ]
  },
  {
   "cell_type": "code",
   "execution_count": 5,
   "metadata": {},
   "outputs": [
    {
     "name": "stderr",
     "output_type": "stream",
     "text": [
      "[nltk_data] Downloading package stopwords to /home/omai.r/nltk_data...\n",
      "[nltk_data]   Package stopwords is already up-to-date!\n",
      "[nltk_data] Downloading package punkt to /home/omai.r/nltk_data...\n",
      "[nltk_data]   Package punkt is already up-to-date!\n"
     ]
    }
   ],
   "source": [
    "nltk.download('stopwords')\n",
    "nltk.download('punkt')\n",
    "stop = set(stopwords.words('english'))"
   ]
  },
  {
   "cell_type": "code",
   "execution_count": 6,
   "metadata": {},
   "outputs": [],
   "source": [
    "#stemmer = PorterStemmer()\n",
    "#id_paper['paper_tokens'] = id_paper['paper'].apply(lambda x: [w for w in word_tokenize(str(x).lower()) if (w not in stop) and (w.isalpha())])\n",
    "#id_paper['paper_tokens'] = id_paper['paper_tokens'].apply(lambda x: [set(stemmer.stem(w)) for w in x])"
   ]
  },
  {
   "cell_type": "code",
   "execution_count": 7,
   "metadata": {},
   "outputs": [],
   "source": [
    "id_paper = pd.read_csv('data_aminer/paper.txt', sep = '\\t', header = None, names = ['id', 'paper'])"
   ]
  },
  {
   "cell_type": "code",
   "execution_count": 8,
   "metadata": {},
   "outputs": [
    {
     "name": "stdout",
     "output_type": "stream",
     "text": [
      "CPU times: user 11.9 s, sys: 2.22 s, total: 14.1 s\n",
      "Wall time: 2min 32s\n"
     ]
    }
   ],
   "source": [
    "%%time\n",
    "stemmer = PorterStemmer()\n",
    "\n",
    "def tokenize_send_to_pool(x, axis):\n",
    "    stop = set(stopwords.words('english'))\n",
    "    return [w for w in word_tokenize(str(x).lower()) if (w not in stop) and (w.isalpha())]\n",
    "\n",
    "id_paper['paper_tokens'] = parallelize_on_rows(id_paper['paper'], tokenize_send_to_pool)"
   ]
  },
  {
   "cell_type": "code",
   "execution_count": 16,
   "metadata": {},
   "outputs": [
    {
     "name": "stdout",
     "output_type": "stream",
     "text": [
      "CPU times: user 38.5 s, sys: 5.6 s, total: 44.1 s\n",
      "Wall time: 1min 51s\n"
     ]
    }
   ],
   "source": [
    "%%time\n",
    "\n",
    "def stem_send_to_pool(x, axis):\n",
    "    return set([stemmer.stem(w) for w in x])\n",
    "\n",
    "id_paper['paper_tokens'] = parallelize_on_rows(id_paper['paper_tokens'], stem_send_to_pool)"
   ]
  },
  {
   "cell_type": "code",
   "execution_count": 17,
   "metadata": {
    "scrolled": true
   },
   "outputs": [
    {
     "data": {
      "text/plain": [
       "0          {parallel, simul, crcw, integ, model, sort, am...\n",
       "1                                {pattern, match, net, tree}\n",
       "2                          {simplifi, problem, tree, schema}\n",
       "3               {free, chain, grammar, power, rule, context}\n",
       "4          {uuml, rpern, k, polynomen, der, von, schnell,...\n",
       "                                 ...                        \n",
       "3192139      {comparison, measur, topolog, approach, proxim}\n",
       "3192140                           {log, summar, queri, olap}\n",
       "3192141    {probabilist, interesting, two, compar, rule, ...\n",
       "3192142    {classif, binari, data, robust, rule, bayesian...\n",
       "3192143                  {pattern, sequenti, mine, approach}\n",
       "Name: paper_tokens, Length: 3192144, dtype: object"
      ]
     },
     "execution_count": 17,
     "metadata": {},
     "output_type": "execute_result"
    }
   ],
   "source": [
    "id_paper['paper_tokens']"
   ]
  },
  {
   "cell_type": "code",
   "execution_count": 19,
   "metadata": {},
   "outputs": [],
   "source": [
    "with open('intermediate_pkl/feature_df.pkl', 'wb') as f:\n",
    "    pkl.dump(id_paper, f)"
   ]
  },
  {
   "cell_type": "code",
   "execution_count": 20,
   "metadata": {},
   "outputs": [
    {
     "data": {
      "application/vnd.jupyter.widget-view+json": {
       "model_id": "1aa00fbdac2e48e2b0a3cbce1b6eda43",
       "version_major": 2,
       "version_minor": 0
      },
      "text/plain": [
       "HBox(children=(IntProgress(value=0, max=3192144), HTML(value='')))"
      ]
     },
     "metadata": {},
     "output_type": "display_data"
    },
    {
     "name": "stdout",
     "output_type": "stream",
     "text": [
      "\n"
     ]
    },
    {
     "data": {
      "image/png": "[encoded data removed]",
      "text/plain": [
       "<Figure size 432x288 with 1 Axes>"
      ]
     },
     "metadata": {
      "needs_background": "light"
     },
     "output_type": "display_data"
    }
   ],
   "source": [
    "features_tokenized = {}\n",
    "threshold = 100\n",
    "\n",
    "for i in tqdm(id_paper['paper_tokens']):\n",
    "    for j in i:\n",
    "        if j not in features_tokenized:\n",
    "            features_tokenized.update({j: 1})\n",
    "        else:\n",
    "            features_tokenized[j] += 1 \n",
    "\n",
    "features_tokenized_df = pd.DataFrame.from_dict(features_tokenized, orient = 'index', columns = ['count'])\n",
    "features_tokenized_df = features_tokenized_df[features_tokenized_df['count'] > threshold]\n",
    "features_tokenized_df.sort_values('count').plot()\n",
    "features_tokenized = features_tokenized_df.to_dict(orient = 'index')\n",
    "features_tokenized = {i: v['count'] for  i, v in features_tokenized.items()}\n",
    "\n",
    "onehot_encoder = OneHotEncoder(sparse=True)\n",
    "onehot_encoder.fit(np.array(list(features_tokenized_df.index)).reshape(-1, 1))\n",
    "\n",
    "def one_hot_to_pool(x, axis):\n",
    "\n",
    "    x = [i for i in x if i in features_tokenized]\n",
    "    if len(x) != 0:\n",
    "        return np.array(sum(onehot_encoder.transform(np.array(x).reshape(-1,1)).todense()))[0]\n",
    "    else:\n",
    "        return np.zeros((1,len(features_tokenized)))\n",
    "    \n",
    "#id_paper['one_hot'] = parallelize_on_rows(id_paper['paper_tokens'], tokenize_send_to_pool)"
   ]
  },
  {
   "cell_type": "markdown",
   "metadata": {},
   "source": [
    "### FILTER TO REMOVE EMPTY TITLES AFTER STEMMING/STOPPING"
   ]
  },
  {
   "cell_type": "code",
   "execution_count": 21,
   "metadata": {},
   "outputs": [
    {
     "data": {
      "text/html": [
       "<div>\n",
       "<style scoped>\n",
       "    .dataframe tbody tr th:only-of-type {\n",
       "        vertical-align: middle;\n",
       "    }\n",
       "\n",
       "    .dataframe tbody tr th {\n",
       "        vertical-align: top;\n",
       "    }\n",
       "\n",
       "    .dataframe thead th {\n",
       "        text-align: right;\n",
       "    }\n",
       "</style>\n",
       "<table border=\"1\" class=\"dataframe\">\n",
       "  <thead>\n",
       "    <tr style=\"text-align: right;\">\n",
       "      <th></th>\n",
       "      <th>id</th>\n",
       "      <th>paper</th>\n",
       "      <th>paper_tokens</th>\n",
       "    </tr>\n",
       "  </thead>\n",
       "  <tbody>\n",
       "  </tbody>\n",
       "</table>\n",
       "</div>"
      ],
      "text/plain": [
       "Empty DataFrame\n",
       "Columns: [id, paper, paper_tokens]\n",
       "Index: []"
      ]
     },
     "execution_count": 21,
     "metadata": {},
     "output_type": "execute_result"
    }
   ],
   "source": [
    "id_paper[id_paper['paper_tokens'].astype(str) == '[]']"
   ]
  },
  {
   "cell_type": "code",
   "execution_count": 16,
   "metadata": {},
   "outputs": [],
   "source": [
    "id_paper = id_paper[id_paper['paper_tokens'].astype(str) != '[]']"
   ]
  },
  {
   "cell_type": "code",
   "execution_count": null,
   "metadata": {},
   "outputs": [],
   "source": [
    "id_paper['paper_onehot'] = parallelize_on_rows(id_paper['paper_tokens'], one_hot_to_pool)"
   ]
  },
  {
   "cell_type": "code",
   "execution_count": 19,
   "metadata": {},
   "outputs": [
    {
     "data": {
      "text/plain": [
       "array([0., 0., 0., ..., 0., 0., 0.])"
      ]
     },
     "execution_count": 19,
     "metadata": {},
     "output_type": "execute_result"
    }
   ],
   "source": [
    "np.array(sum(onehot_encoder.transform(np.array(id_paper['paper_tokens'][1]).reshape(-1, 1)).todense()))[0]"
   ]
  },
  {
   "cell_type": "code",
   "execution_count": 20,
   "metadata": {},
   "outputs": [
    {
     "data": {
      "text/plain": [
       "array([0., 0., 0., ..., 0., 0., 0.])"
      ]
     },
     "execution_count": 20,
     "metadata": {},
     "output_type": "execute_result"
    }
   ],
   "source": [
    "np.array(sum(onehot_encoder.transform(np.array(id_paper['paper_tokens'][1]).reshape(-1,1)).todense()))[0]"
   ]
  },
  {
   "cell_type": "code",
   "execution_count": 21,
   "metadata": {},
   "outputs": [
    {
     "data": {
      "text/plain": [
       "matrix([[0., 0., 0., ..., 0., 0., 0.],\n",
       "        [0., 0., 0., ..., 0., 0., 0.],\n",
       "        [0., 0., 0., ..., 0., 0., 0.],\n",
       "        [0., 0., 0., ..., 0., 0., 0.]])"
      ]
     },
     "execution_count": 21,
     "metadata": {},
     "output_type": "execute_result"
    }
   ],
   "source": [
    "onehot_encoder.transform(np.array(id_paper['paper_tokens'][1]).reshape(-1, 1)).todense()"
   ]
  },
  {
   "cell_type": "code",
   "execution_count": 184,
   "metadata": {},
   "outputs": [
    {
     "data": {
      "application/vnd.jupyter.widget-view+json": {
       "model_id": "219df0f8680b43bdbd73a4365551adcd",
       "version_major": 2,
       "version_minor": 0
      },
      "text/plain": [
       "HBox(children=(IntProgress(value=0, max=5), HTML(value='')))"
      ]
     },
     "metadata": {},
     "output_type": "display_data"
    },
    {
     "name": "stdout",
     "output_type": "stream",
     "text": [
      "\n"
     ]
    }
   ],
   "source": [
    "paper_onehot = list()\n",
    "for row in tqdm(id_paper['paper_tokens'][:5]): \n",
    "    if len(row) != 0:\n",
    "        paper_onehot.append(sum(onehot_encoder.transform(np.array(row).reshape(-1,1)).todense()))"
   ]
  },
  {
   "cell_type": "code",
   "execution_count": 185,
   "metadata": {},
   "outputs": [
    {
     "data": {
      "text/plain": [
       "[matrix([[0., 0., 0., ..., 0., 0., 0.]]),\n",
       " matrix([[0., 0., 0., ..., 0., 0., 0.]]),\n",
       " matrix([[0., 0., 0., ..., 0., 0., 0.]]),\n",
       " matrix([[0., 0., 0., ..., 0., 0., 0.]]),\n",
       " matrix([[0., 0., 0., ..., 0., 0., 0.]])]"
      ]
     },
     "execution_count": 185,
     "metadata": {},
     "output_type": "execute_result"
    }
   ],
   "source": [
    "paper_onehot"
   ]
  },
  {
   "cell_type": "code",
   "execution_count": 187,
   "metadata": {},
   "outputs": [],
   "source": [
    "paper_onehot = id_paper['paper_tokens'][35:40].apply(lambda x: np.sum(onehot_encoder.transform(np.array(x).reshape(-1,1)).todense(), axis = 0))"
   ]
  },
  {
   "cell_type": "code",
   "execution_count": 209,
   "metadata": {},
   "outputs": [
    {
     "data": {
      "text/plain": [
       "271305"
      ]
     },
     "execution_count": 209,
     "metadata": {},
     "output_type": "execute_result"
    }
   ],
   "source": [
    "len(np.array(paper_onehot[35])[0])"
   ]
  },
  {
   "cell_type": "code",
   "execution_count": 213,
   "metadata": {},
   "outputs": [
    {
     "data": {
      "text/plain": [
       "array([[0., 0., 0., ..., 0., 0., 0.]])"
      ]
     },
     "execution_count": 213,
     "metadata": {},
     "output_type": "execute_result"
    }
   ],
   "source": [
    "np.zeros((1,271305))"
   ]
  },
  {
   "cell_type": "code",
   "execution_count": 215,
   "metadata": {},
   "outputs": [
    {
     "data": {
      "text/plain": [
       "271305"
      ]
     },
     "execution_count": 215,
     "metadata": {},
     "output_type": "execute_result"
    }
   ],
   "source": [
    "len(features_tokenized)"
   ]
  },
  {
   "cell_type": "code",
   "execution_count": null,
   "metadata": {},
   "outputs": [],
   "source": []
  }
 ],
 "metadata": {
  "kernelspec": {
   "display_name": "Python 3",
   "language": "python",
   "name": "python3"
  },
  "language_info": {
   "codemirror_mode": {
    "name": "ipython",
    "version": 3
   },
   "file_extension": ".py",
   "mimetype": "text/x-python",
   "name": "python",
   "nbconvert_exporter": "python",
   "pygments_lexer": "ipython3",
   "version": "3.5.3"
  }
 },
 "nbformat": 4,
 "nbformat_minor": 2
}
